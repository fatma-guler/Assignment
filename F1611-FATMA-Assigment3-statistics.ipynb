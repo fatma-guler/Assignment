{
 "cells": [
  {
   "cell_type": "code",
   "execution_count": 1,
   "id": "0506e8f6",
   "metadata": {},
   "outputs": [],
   "source": [
    "import pandas as pd\n",
    "import numpy as np\n",
    "from scipy import stats"
   ]
  },
  {
   "cell_type": "code",
   "execution_count": null,
   "id": "19427c83",
   "metadata": {},
   "outputs": [],
   "source": [
    "##Exercise 1"
   ]
  },
  {
   "cell_type": "code",
   "execution_count": 2,
   "id": "f3e6e9b7",
   "metadata": {},
   "outputs": [],
   "source": [
    "M = 13.20\n",
    "sigma = 2.50\n",
    "n = 40   #(Z test)\n",
    "mu = 12.20\n",
    "aplha = 0.01"
   ]
  },
  {
   "cell_type": "code",
   "execution_count": 3,
   "id": "6f6dbe45",
   "metadata": {},
   "outputs": [
    {
     "data": {
      "text/plain": [
       "-2.5298221281347035"
      ]
     },
     "execution_count": 3,
     "metadata": {},
     "output_type": "execute_result"
    }
   ],
   "source": [
    "z=(mu-M)/(sigma/np.sqrt(n))\n",
    "z"
   ]
  },
  {
   "cell_type": "code",
   "execution_count": 4,
   "id": "18110204",
   "metadata": {},
   "outputs": [
    {
     "data": {
      "text/plain": [
       "0.005706018193000826"
      ]
     },
     "execution_count": 4,
     "metadata": {},
     "output_type": "execute_result"
    }
   ],
   "source": [
    "p_val=stats.norm.cdf(z)\n",
    "p_val"
   ]
  },
  {
   "cell_type": "code",
   "execution_count": 5,
   "id": "7d2224f6",
   "metadata": {},
   "outputs": [
    {
     "name": "stdout",
     "output_type": "stream",
     "text": [
      "reject the null\n"
     ]
    }
   ],
   "source": [
    "alpha=0.01\n",
    "if p_val<alpha :\n",
    "  print(\"reject the null\")\n",
    "else:\n",
    "  print(\"fail to reject the null\")"
   ]
  },
  {
   "cell_type": "code",
   "execution_count": null,
   "id": "c8a24245",
   "metadata": {},
   "outputs": [],
   "source": [
    "#Exercise 2"
   ]
  },
  {
   "cell_type": "code",
   "execution_count": 7,
   "id": "3e51f695",
   "metadata": {},
   "outputs": [
    {
     "data": {
      "text/html": [
       "<div>\n",
       "<style scoped>\n",
       "    .dataframe tbody tr th:only-of-type {\n",
       "        vertical-align: middle;\n",
       "    }\n",
       "\n",
       "    .dataframe tbody tr th {\n",
       "        vertical-align: top;\n",
       "    }\n",
       "\n",
       "    .dataframe thead th {\n",
       "        text-align: right;\n",
       "    }\n",
       "</style>\n",
       "<table border=\"1\" class=\"dataframe\">\n",
       "  <thead>\n",
       "    <tr style=\"text-align: right;\">\n",
       "      <th></th>\n",
       "      <th>Soil1</th>\n",
       "      <th>Soil2</th>\n",
       "    </tr>\n",
       "  </thead>\n",
       "  <tbody>\n",
       "    <tr>\n",
       "      <th>0</th>\n",
       "      <td>1.442</td>\n",
       "      <td>1.364</td>\n",
       "    </tr>\n",
       "    <tr>\n",
       "      <th>1</th>\n",
       "      <td>1.943</td>\n",
       "      <td>1.878</td>\n",
       "    </tr>\n",
       "    <tr>\n",
       "      <th>2</th>\n",
       "      <td>1.110</td>\n",
       "      <td>1.337</td>\n",
       "    </tr>\n",
       "    <tr>\n",
       "      <th>3</th>\n",
       "      <td>1.912</td>\n",
       "      <td>1.828</td>\n",
       "    </tr>\n",
       "    <tr>\n",
       "      <th>4</th>\n",
       "      <td>1.553</td>\n",
       "      <td>1.371</td>\n",
       "    </tr>\n",
       "  </tbody>\n",
       "</table>\n",
       "</div>"
      ],
      "text/plain": [
       "   Soil1  Soil2\n",
       "0  1.442  1.364\n",
       "1  1.943  1.878\n",
       "2  1.110  1.337\n",
       "3  1.912  1.828\n",
       "4  1.553  1.371"
      ]
     },
     "execution_count": 7,
     "metadata": {},
     "output_type": "execute_result"
    }
   ],
   "source": [
    "df_soil = pd.read_csv(\"soil - Sheet1.csv\")\n",
    "df_soil.head()"
   ]
  },
  {
   "cell_type": "code",
   "execution_count": 8,
   "id": "c9b19996",
   "metadata": {},
   "outputs": [
    {
     "data": {
      "text/plain": [
       "5"
      ]
     },
     "execution_count": 8,
     "metadata": {},
     "output_type": "execute_result"
    }
   ],
   "source": [
    "df_soil.Soil1.isnull().sum()"
   ]
  },
  {
   "cell_type": "code",
   "execution_count": 9,
   "id": "86a547e1",
   "metadata": {},
   "outputs": [
    {
     "data": {
      "text/plain": [
       "0"
      ]
     },
     "execution_count": 9,
     "metadata": {},
     "output_type": "execute_result"
    }
   ],
   "source": [
    "df_soil.Soil2.isnull().sum()"
   ]
  },
  {
   "cell_type": "code",
   "execution_count": 10,
   "id": "6f9a38ed",
   "metadata": {},
   "outputs": [],
   "source": [
    "Soil1_n=df_soil.Soil1[df_soil.Soil1.notnull()]"
   ]
  },
  {
   "cell_type": "code",
   "execution_count": 14,
   "id": "317d7814",
   "metadata": {},
   "outputs": [
    {
     "data": {
      "text/plain": [
       "30"
      ]
     },
     "execution_count": 14,
     "metadata": {},
     "output_type": "execute_result"
    }
   ],
   "source": [
    "n1=len(Soil1_n)\n",
    "n1"
   ]
  },
  {
   "cell_type": "code",
   "execution_count": 12,
   "id": "76eef042",
   "metadata": {},
   "outputs": [
    {
     "data": {
      "text/plain": [
       "35"
      ]
     },
     "execution_count": 12,
     "metadata": {},
     "output_type": "execute_result"
    }
   ],
   "source": [
    "n2=len(df_soil.Soil2)\n",
    "n2"
   ]
  },
  {
   "cell_type": "code",
   "execution_count": 15,
   "id": "f956d2b2",
   "metadata": {},
   "outputs": [
    {
     "data": {
      "text/plain": [
       "Ttest_indResult(statistic=5.1681473319343345, pvalue=2.593228732352821e-06)"
      ]
     },
     "execution_count": 15,
     "metadata": {},
     "output_type": "execute_result"
    }
   ],
   "source": [
    "ind_soil = stats.ttest_ind(Soil1_n, df_soil.Soil2)\n",
    "ind_soil"
   ]
  },
  {
   "cell_type": "code",
   "execution_count": 16,
   "id": "d8579e47",
   "metadata": {},
   "outputs": [
    {
     "name": "stdout",
     "output_type": "stream",
     "text": [
      "reject the null\n"
     ]
    }
   ],
   "source": [
    "alpha=0.01\n",
    "if p_val<alpha :\n",
    "  print(\"reject the null\")\n",
    "else:\n",
    "  print(\"fail to reject the null\")"
   ]
  },
  {
   "cell_type": "code",
   "execution_count": null,
   "id": "ceb84630",
   "metadata": {},
   "outputs": [],
   "source": [
    "##Exercise 3"
   ]
  },
  {
   "cell_type": "code",
   "execution_count": 17,
   "id": "c4c4b342",
   "metadata": {},
   "outputs": [
    {
     "data": {
      "text/html": [
       "<div>\n",
       "<style scoped>\n",
       "    .dataframe tbody tr th:only-of-type {\n",
       "        vertical-align: middle;\n",
       "    }\n",
       "\n",
       "    .dataframe tbody tr th {\n",
       "        vertical-align: top;\n",
       "    }\n",
       "\n",
       "    .dataframe thead th {\n",
       "        text-align: right;\n",
       "    }\n",
       "</style>\n",
       "<table border=\"1\" class=\"dataframe\">\n",
       "  <thead>\n",
       "    <tr style=\"text-align: right;\">\n",
       "      <th></th>\n",
       "      <th>Country Code</th>\n",
       "      <th>Continent_Code</th>\n",
       "      <th>internet_users_per_100</th>\n",
       "      <th>Math</th>\n",
       "      <th>Reading</th>\n",
       "      <th>Science</th>\n",
       "    </tr>\n",
       "  </thead>\n",
       "  <tbody>\n",
       "    <tr>\n",
       "      <th>0</th>\n",
       "      <td>ALB</td>\n",
       "      <td>EU</td>\n",
       "      <td>63.252933</td>\n",
       "      <td>413.1570</td>\n",
       "      <td>405.2588</td>\n",
       "      <td>427.2250</td>\n",
       "    </tr>\n",
       "    <tr>\n",
       "      <th>1</th>\n",
       "      <td>ARE</td>\n",
       "      <td>AS</td>\n",
       "      <td>90.500000</td>\n",
       "      <td>427.4827</td>\n",
       "      <td>433.5423</td>\n",
       "      <td>436.7311</td>\n",
       "    </tr>\n",
       "    <tr>\n",
       "      <th>2</th>\n",
       "      <td>ARG</td>\n",
       "      <td>SA</td>\n",
       "      <td>68.043064</td>\n",
       "      <td>409.0333</td>\n",
       "      <td>425.3031</td>\n",
       "      <td>432.2262</td>\n",
       "    </tr>\n",
       "    <tr>\n",
       "      <th>3</th>\n",
       "      <td>AUS</td>\n",
       "      <td>OC</td>\n",
       "      <td>84.560519</td>\n",
       "      <td>493.8962</td>\n",
       "      <td>502.9006</td>\n",
       "      <td>509.9939</td>\n",
       "    </tr>\n",
       "    <tr>\n",
       "      <th>4</th>\n",
       "      <td>AUT</td>\n",
       "      <td>EU</td>\n",
       "      <td>83.940142</td>\n",
       "      <td>496.7423</td>\n",
       "      <td>484.8656</td>\n",
       "      <td>495.0375</td>\n",
       "    </tr>\n",
       "    <tr>\n",
       "      <th>...</th>\n",
       "      <td>...</td>\n",
       "      <td>...</td>\n",
       "      <td>...</td>\n",
       "      <td>...</td>\n",
       "      <td>...</td>\n",
       "      <td>...</td>\n",
       "    </tr>\n",
       "    <tr>\n",
       "      <th>65</th>\n",
       "      <td>TUN</td>\n",
       "      <td>AF</td>\n",
       "      <td>48.519836</td>\n",
       "      <td>366.8180</td>\n",
       "      <td>361.0555</td>\n",
       "      <td>386.4034</td>\n",
       "    </tr>\n",
       "    <tr>\n",
       "      <th>66</th>\n",
       "      <td>TUR</td>\n",
       "      <td>EU</td>\n",
       "      <td>53.744979</td>\n",
       "      <td>420.4540</td>\n",
       "      <td>428.3351</td>\n",
       "      <td>425.4895</td>\n",
       "    </tr>\n",
       "    <tr>\n",
       "      <th>67</th>\n",
       "      <td>URY</td>\n",
       "      <td>SA</td>\n",
       "      <td>64.600000</td>\n",
       "      <td>417.9919</td>\n",
       "      <td>436.5721</td>\n",
       "      <td>435.3630</td>\n",
       "    </tr>\n",
       "    <tr>\n",
       "      <th>68</th>\n",
       "      <td>USA</td>\n",
       "      <td>NaN</td>\n",
       "      <td>74.554202</td>\n",
       "      <td>469.6285</td>\n",
       "      <td>496.9351</td>\n",
       "      <td>496.2424</td>\n",
       "    </tr>\n",
       "    <tr>\n",
       "      <th>69</th>\n",
       "      <td>VNM</td>\n",
       "      <td>AS</td>\n",
       "      <td>43.500000</td>\n",
       "      <td>494.5183</td>\n",
       "      <td>486.7738</td>\n",
       "      <td>524.6445</td>\n",
       "    </tr>\n",
       "  </tbody>\n",
       "</table>\n",
       "<p>70 rows × 6 columns</p>\n",
       "</div>"
      ],
      "text/plain": [
       "   Country Code Continent_Code  internet_users_per_100      Math   Reading  \\\n",
       "0           ALB             EU               63.252933  413.1570  405.2588   \n",
       "1           ARE             AS               90.500000  427.4827  433.5423   \n",
       "2           ARG             SA               68.043064  409.0333  425.3031   \n",
       "3           AUS             OC               84.560519  493.8962  502.9006   \n",
       "4           AUT             EU               83.940142  496.7423  484.8656   \n",
       "..          ...            ...                     ...       ...       ...   \n",
       "65          TUN             AF               48.519836  366.8180  361.0555   \n",
       "66          TUR             EU               53.744979  420.4540  428.3351   \n",
       "67          URY             SA               64.600000  417.9919  436.5721   \n",
       "68          USA            NaN               74.554202  469.6285  496.9351   \n",
       "69          VNM             AS               43.500000  494.5183  486.7738   \n",
       "\n",
       "     Science  \n",
       "0   427.2250  \n",
       "1   436.7311  \n",
       "2   432.2262  \n",
       "3   509.9939  \n",
       "4   495.0375  \n",
       "..       ...  \n",
       "65  386.4034  \n",
       "66  425.4895  \n",
       "67  435.3630  \n",
       "68  496.2424  \n",
       "69  524.6445  \n",
       "\n",
       "[70 rows x 6 columns]"
      ]
     },
     "execution_count": 17,
     "metadata": {},
     "output_type": "execute_result"
    }
   ],
   "source": [
    "df_pisa = pd.read_csv(\"2015 PISA Test - Sheet1.csv\")\n",
    "df_pisa"
   ]
  },
  {
   "cell_type": "code",
   "execution_count": 18,
   "id": "b74344b5",
   "metadata": {},
   "outputs": [
    {
     "data": {
      "text/html": [
       "<div>\n",
       "<style scoped>\n",
       "    .dataframe tbody tr th:only-of-type {\n",
       "        vertical-align: middle;\n",
       "    }\n",
       "\n",
       "    .dataframe tbody tr th {\n",
       "        vertical-align: top;\n",
       "    }\n",
       "\n",
       "    .dataframe thead th {\n",
       "        text-align: right;\n",
       "    }\n",
       "</style>\n",
       "<table border=\"1\" class=\"dataframe\">\n",
       "  <thead>\n",
       "    <tr style=\"text-align: right;\">\n",
       "      <th></th>\n",
       "      <th>Country Code</th>\n",
       "      <th>Continent_Code</th>\n",
       "      <th>internet_users_per_100</th>\n",
       "      <th>Math</th>\n",
       "      <th>Reading</th>\n",
       "      <th>Science</th>\n",
       "    </tr>\n",
       "  </thead>\n",
       "  <tbody>\n",
       "    <tr>\n",
       "      <th>0</th>\n",
       "      <td>ALB</td>\n",
       "      <td>EU</td>\n",
       "      <td>63.252933</td>\n",
       "      <td>413.1570</td>\n",
       "      <td>405.2588</td>\n",
       "      <td>427.2250</td>\n",
       "    </tr>\n",
       "    <tr>\n",
       "      <th>1</th>\n",
       "      <td>ARE</td>\n",
       "      <td>AS</td>\n",
       "      <td>90.500000</td>\n",
       "      <td>427.4827</td>\n",
       "      <td>433.5423</td>\n",
       "      <td>436.7311</td>\n",
       "    </tr>\n",
       "    <tr>\n",
       "      <th>2</th>\n",
       "      <td>ARG</td>\n",
       "      <td>SA</td>\n",
       "      <td>68.043064</td>\n",
       "      <td>409.0333</td>\n",
       "      <td>425.3031</td>\n",
       "      <td>432.2262</td>\n",
       "    </tr>\n",
       "    <tr>\n",
       "      <th>3</th>\n",
       "      <td>AUS</td>\n",
       "      <td>OC</td>\n",
       "      <td>84.560519</td>\n",
       "      <td>493.8962</td>\n",
       "      <td>502.9006</td>\n",
       "      <td>509.9939</td>\n",
       "    </tr>\n",
       "    <tr>\n",
       "      <th>4</th>\n",
       "      <td>AUT</td>\n",
       "      <td>EU</td>\n",
       "      <td>83.940142</td>\n",
       "      <td>496.7423</td>\n",
       "      <td>484.8656</td>\n",
       "      <td>495.0375</td>\n",
       "    </tr>\n",
       "  </tbody>\n",
       "</table>\n",
       "</div>"
      ],
      "text/plain": [
       "  Country Code Continent_Code  internet_users_per_100      Math   Reading  \\\n",
       "0          ALB             EU               63.252933  413.1570  405.2588   \n",
       "1          ARE             AS               90.500000  427.4827  433.5423   \n",
       "2          ARG             SA               68.043064  409.0333  425.3031   \n",
       "3          AUS             OC               84.560519  493.8962  502.9006   \n",
       "4          AUT             EU               83.940142  496.7423  484.8656   \n",
       "\n",
       "    Science  \n",
       "0  427.2250  \n",
       "1  436.7311  \n",
       "2  432.2262  \n",
       "3  509.9939  \n",
       "4  495.0375  "
      ]
     },
     "execution_count": 18,
     "metadata": {},
     "output_type": "execute_result"
    }
   ],
   "source": [
    "df_pisa.head()"
   ]
  },
  {
   "cell_type": "code",
   "execution_count": 19,
   "id": "1170b7ed",
   "metadata": {},
   "outputs": [
    {
     "data": {
      "text/html": [
       "<div>\n",
       "<style scoped>\n",
       "    .dataframe tbody tr th:only-of-type {\n",
       "        vertical-align: middle;\n",
       "    }\n",
       "\n",
       "    .dataframe tbody tr th {\n",
       "        vertical-align: top;\n",
       "    }\n",
       "\n",
       "    .dataframe thead th {\n",
       "        text-align: right;\n",
       "    }\n",
       "</style>\n",
       "<table border=\"1\" class=\"dataframe\">\n",
       "  <thead>\n",
       "    <tr style=\"text-align: right;\">\n",
       "      <th></th>\n",
       "      <th>internet_users_per_100</th>\n",
       "      <th>Math</th>\n",
       "      <th>Reading</th>\n",
       "      <th>Science</th>\n",
       "    </tr>\n",
       "  </thead>\n",
       "  <tbody>\n",
       "    <tr>\n",
       "      <th>count</th>\n",
       "      <td>70.000000</td>\n",
       "      <td>70.000000</td>\n",
       "      <td>70.000000</td>\n",
       "      <td>70.000000</td>\n",
       "    </tr>\n",
       "    <tr>\n",
       "      <th>mean</th>\n",
       "      <td>71.973099</td>\n",
       "      <td>460.971557</td>\n",
       "      <td>460.997291</td>\n",
       "      <td>465.439093</td>\n",
       "    </tr>\n",
       "    <tr>\n",
       "      <th>std</th>\n",
       "      <td>16.390632</td>\n",
       "      <td>53.327205</td>\n",
       "      <td>49.502679</td>\n",
       "      <td>48.397254</td>\n",
       "    </tr>\n",
       "    <tr>\n",
       "      <th>min</th>\n",
       "      <td>21.976068</td>\n",
       "      <td>327.702000</td>\n",
       "      <td>346.549000</td>\n",
       "      <td>331.638800</td>\n",
       "    </tr>\n",
       "    <tr>\n",
       "      <th>25%</th>\n",
       "      <td>60.899020</td>\n",
       "      <td>417.416075</td>\n",
       "      <td>426.948625</td>\n",
       "      <td>425.923375</td>\n",
       "    </tr>\n",
       "    <tr>\n",
       "      <th>50%</th>\n",
       "      <td>72.999350</td>\n",
       "      <td>477.607150</td>\n",
       "      <td>480.199850</td>\n",
       "      <td>475.400050</td>\n",
       "    </tr>\n",
       "    <tr>\n",
       "      <th>75%</th>\n",
       "      <td>85.026763</td>\n",
       "      <td>500.482925</td>\n",
       "      <td>499.687475</td>\n",
       "      <td>502.431250</td>\n",
       "    </tr>\n",
       "    <tr>\n",
       "      <th>max</th>\n",
       "      <td>98.200000</td>\n",
       "      <td>564.189700</td>\n",
       "      <td>535.100200</td>\n",
       "      <td>555.574700</td>\n",
       "    </tr>\n",
       "  </tbody>\n",
       "</table>\n",
       "</div>"
      ],
      "text/plain": [
       "       internet_users_per_100        Math     Reading     Science\n",
       "count               70.000000   70.000000   70.000000   70.000000\n",
       "mean                71.973099  460.971557  460.997291  465.439093\n",
       "std                 16.390632   53.327205   49.502679   48.397254\n",
       "min                 21.976068  327.702000  346.549000  331.638800\n",
       "25%                 60.899020  417.416075  426.948625  425.923375\n",
       "50%                 72.999350  477.607150  480.199850  475.400050\n",
       "75%                 85.026763  500.482925  499.687475  502.431250\n",
       "max                 98.200000  564.189700  535.100200  555.574700"
      ]
     },
     "execution_count": 19,
     "metadata": {},
     "output_type": "execute_result"
    }
   ],
   "source": [
    "df_pisa.describe()"
   ]
  },
  {
   "cell_type": "code",
   "execution_count": 20,
   "id": "67c2cc28",
   "metadata": {},
   "outputs": [
    {
     "data": {
      "text/html": [
       "<div>\n",
       "<style scoped>\n",
       "    .dataframe tbody tr th:only-of-type {\n",
       "        vertical-align: middle;\n",
       "    }\n",
       "\n",
       "    .dataframe tbody tr th {\n",
       "        vertical-align: top;\n",
       "    }\n",
       "\n",
       "    .dataframe thead th {\n",
       "        text-align: right;\n",
       "    }\n",
       "</style>\n",
       "<table border=\"1\" class=\"dataframe\">\n",
       "  <thead>\n",
       "    <tr style=\"text-align: right;\">\n",
       "      <th></th>\n",
       "      <th>count</th>\n",
       "      <th>mean</th>\n",
       "      <th>std</th>\n",
       "      <th>min</th>\n",
       "      <th>25%</th>\n",
       "      <th>50%</th>\n",
       "      <th>75%</th>\n",
       "      <th>max</th>\n",
       "    </tr>\n",
       "  </thead>\n",
       "  <tbody>\n",
       "    <tr>\n",
       "      <th>internet_users_per_100</th>\n",
       "      <td>70.0</td>\n",
       "      <td>71.973099</td>\n",
       "      <td>16.390632</td>\n",
       "      <td>21.976068</td>\n",
       "      <td>60.899020</td>\n",
       "      <td>72.99935</td>\n",
       "      <td>85.026763</td>\n",
       "      <td>98.2000</td>\n",
       "    </tr>\n",
       "    <tr>\n",
       "      <th>Math</th>\n",
       "      <td>70.0</td>\n",
       "      <td>460.971557</td>\n",
       "      <td>53.327205</td>\n",
       "      <td>327.702000</td>\n",
       "      <td>417.416075</td>\n",
       "      <td>477.60715</td>\n",
       "      <td>500.482925</td>\n",
       "      <td>564.1897</td>\n",
       "    </tr>\n",
       "    <tr>\n",
       "      <th>Reading</th>\n",
       "      <td>70.0</td>\n",
       "      <td>460.997291</td>\n",
       "      <td>49.502679</td>\n",
       "      <td>346.549000</td>\n",
       "      <td>426.948625</td>\n",
       "      <td>480.19985</td>\n",
       "      <td>499.687475</td>\n",
       "      <td>535.1002</td>\n",
       "    </tr>\n",
       "    <tr>\n",
       "      <th>Science</th>\n",
       "      <td>70.0</td>\n",
       "      <td>465.439093</td>\n",
       "      <td>48.397254</td>\n",
       "      <td>331.638800</td>\n",
       "      <td>425.923375</td>\n",
       "      <td>475.40005</td>\n",
       "      <td>502.431250</td>\n",
       "      <td>555.5747</td>\n",
       "    </tr>\n",
       "  </tbody>\n",
       "</table>\n",
       "</div>"
      ],
      "text/plain": [
       "                        count        mean        std         min         25%  \\\n",
       "internet_users_per_100   70.0   71.973099  16.390632   21.976068   60.899020   \n",
       "Math                     70.0  460.971557  53.327205  327.702000  417.416075   \n",
       "Reading                  70.0  460.997291  49.502679  346.549000  426.948625   \n",
       "Science                  70.0  465.439093  48.397254  331.638800  425.923375   \n",
       "\n",
       "                              50%         75%       max  \n",
       "internet_users_per_100   72.99935   85.026763   98.2000  \n",
       "Math                    477.60715  500.482925  564.1897  \n",
       "Reading                 480.19985  499.687475  535.1002  \n",
       "Science                 475.40005  502.431250  555.5747  "
      ]
     },
     "execution_count": 20,
     "metadata": {},
     "output_type": "execute_result"
    }
   ],
   "source": [
    "df_pisa.describe().T"
   ]
  },
  {
   "cell_type": "code",
   "execution_count": 21,
   "id": "c24f647b",
   "metadata": {},
   "outputs": [
    {
     "data": {
      "text/html": [
       "<div>\n",
       "<style scoped>\n",
       "    .dataframe tbody tr th:only-of-type {\n",
       "        vertical-align: middle;\n",
       "    }\n",
       "\n",
       "    .dataframe tbody tr th {\n",
       "        vertical-align: top;\n",
       "    }\n",
       "\n",
       "    .dataframe thead th {\n",
       "        text-align: right;\n",
       "    }\n",
       "</style>\n",
       "<table border=\"1\" class=\"dataframe\">\n",
       "  <thead>\n",
       "    <tr style=\"text-align: right;\">\n",
       "      <th></th>\n",
       "      <th>Continent_Code</th>\n",
       "      <th>AF</th>\n",
       "      <th>AS</th>\n",
       "      <th>EU</th>\n",
       "      <th>OC</th>\n",
       "      <th>SA</th>\n",
       "    </tr>\n",
       "  </thead>\n",
       "  <tbody>\n",
       "    <tr>\n",
       "      <th rowspan=\"8\" valign=\"top\">internet_users_per_100</th>\n",
       "      <th>count</th>\n",
       "      <td>2.000000</td>\n",
       "      <td>17.000000</td>\n",
       "      <td>37.000000</td>\n",
       "      <td>2.000000</td>\n",
       "      <td>7.000000</td>\n",
       "    </tr>\n",
       "    <tr>\n",
       "      <th>mean</th>\n",
       "      <td>43.359918</td>\n",
       "      <td>68.455613</td>\n",
       "      <td>77.274888</td>\n",
       "      <td>86.391704</td>\n",
       "      <td>60.180494</td>\n",
       "    </tr>\n",
       "    <tr>\n",
       "      <th>std</th>\n",
       "      <td>7.297226</td>\n",
       "      <td>21.086060</td>\n",
       "      <td>12.425773</td>\n",
       "      <td>2.589686</td>\n",
       "      <td>9.772455</td>\n",
       "    </tr>\n",
       "    <tr>\n",
       "      <th>min</th>\n",
       "      <td>38.200000</td>\n",
       "      <td>21.976068</td>\n",
       "      <td>53.744979</td>\n",
       "      <td>84.560519</td>\n",
       "      <td>40.900000</td>\n",
       "    </tr>\n",
       "    <tr>\n",
       "      <th>25%</th>\n",
       "      <td>40.779959</td>\n",
       "      <td>50.300000</td>\n",
       "      <td>68.632900</td>\n",
       "      <td>85.476112</td>\n",
       "      <td>57.116462</td>\n",
       "    </tr>\n",
       "    <tr>\n",
       "      <th>50%</th>\n",
       "      <td>43.359918</td>\n",
       "      <td>74.000000</td>\n",
       "      <td>76.184000</td>\n",
       "      <td>86.391704</td>\n",
       "      <td>64.289000</td>\n",
       "    </tr>\n",
       "    <tr>\n",
       "      <th>75%</th>\n",
       "      <td>45.939877</td>\n",
       "      <td>84.948353</td>\n",
       "      <td>87.479056</td>\n",
       "      <td>87.307296</td>\n",
       "      <td>66.321532</td>\n",
       "    </tr>\n",
       "    <tr>\n",
       "      <th>max</th>\n",
       "      <td>48.519836</td>\n",
       "      <td>92.884826</td>\n",
       "      <td>98.200000</td>\n",
       "      <td>88.222889</td>\n",
       "      <td>69.198471</td>\n",
       "    </tr>\n",
       "    <tr>\n",
       "      <th rowspan=\"8\" valign=\"top\">Math</th>\n",
       "      <th>count</th>\n",
       "      <td>2.000000</td>\n",
       "      <td>17.000000</td>\n",
       "      <td>37.000000</td>\n",
       "      <td>2.000000</td>\n",
       "      <td>7.000000</td>\n",
       "    </tr>\n",
       "    <tr>\n",
       "      <th>mean</th>\n",
       "      <td>363.212100</td>\n",
       "      <td>466.216647</td>\n",
       "      <td>477.981449</td>\n",
       "      <td>494.559750</td>\n",
       "      <td>402.887700</td>\n",
       "    </tr>\n",
       "    <tr>\n",
       "      <th>std</th>\n",
       "      <td>5.099513</td>\n",
       "      <td>64.356490</td>\n",
       "      <td>35.150403</td>\n",
       "      <td>0.938401</td>\n",
       "      <td>18.128894</td>\n",
       "    </tr>\n",
       "    <tr>\n",
       "      <th>min</th>\n",
       "      <td>359.606200</td>\n",
       "      <td>380.259000</td>\n",
       "      <td>371.311400</td>\n",
       "      <td>493.896200</td>\n",
       "      <td>377.069500</td>\n",
       "    </tr>\n",
       "    <tr>\n",
       "      <th>25%</th>\n",
       "      <td>361.409150</td>\n",
       "      <td>403.833200</td>\n",
       "      <td>464.040100</td>\n",
       "      <td>494.227975</td>\n",
       "      <td>388.102200</td>\n",
       "    </tr>\n",
       "    <tr>\n",
       "      <th>50%</th>\n",
       "      <td>363.212100</td>\n",
       "      <td>459.816000</td>\n",
       "      <td>489.728700</td>\n",
       "      <td>494.559750</td>\n",
       "      <td>409.033300</td>\n",
       "    </tr>\n",
       "    <tr>\n",
       "      <th>75%</th>\n",
       "      <td>365.015050</td>\n",
       "      <td>531.296100</td>\n",
       "      <td>503.722000</td>\n",
       "      <td>494.891525</td>\n",
       "      <td>417.617650</td>\n",
       "    </tr>\n",
       "    <tr>\n",
       "      <th>max</th>\n",
       "      <td>366.818000</td>\n",
       "      <td>564.189700</td>\n",
       "      <td>521.250600</td>\n",
       "      <td>495.223300</td>\n",
       "      <td>422.671400</td>\n",
       "    </tr>\n",
       "    <tr>\n",
       "      <th rowspan=\"8\" valign=\"top\">Reading</th>\n",
       "      <th>count</th>\n",
       "      <td>2.000000</td>\n",
       "      <td>17.000000</td>\n",
       "      <td>37.000000</td>\n",
       "      <td>2.000000</td>\n",
       "      <td>7.000000</td>\n",
       "    </tr>\n",
       "    <tr>\n",
       "      <th>mean</th>\n",
       "      <td>355.457400</td>\n",
       "      <td>454.059682</td>\n",
       "      <td>476.164608</td>\n",
       "      <td>506.085650</td>\n",
       "      <td>425.359229</td>\n",
       "    </tr>\n",
       "    <tr>\n",
       "      <th>std</th>\n",
       "      <td>7.916909</td>\n",
       "      <td>57.048962</td>\n",
       "      <td>37.720545</td>\n",
       "      <td>4.504341</td>\n",
       "      <td>19.709688</td>\n",
       "    </tr>\n",
       "    <tr>\n",
       "      <th>min</th>\n",
       "      <td>349.859300</td>\n",
       "      <td>346.549000</td>\n",
       "      <td>351.741500</td>\n",
       "      <td>502.900600</td>\n",
       "      <td>397.541400</td>\n",
       "    </tr>\n",
       "    <tr>\n",
       "      <th>25%</th>\n",
       "      <td>352.658350</td>\n",
       "      <td>408.102200</td>\n",
       "      <td>452.514300</td>\n",
       "      <td>504.493125</td>\n",
       "      <td>416.126900</td>\n",
       "    </tr>\n",
       "    <tr>\n",
       "      <th>50%</th>\n",
       "      <td>355.457400</td>\n",
       "      <td>433.542300</td>\n",
       "      <td>487.250100</td>\n",
       "      <td>506.085650</td>\n",
       "      <td>425.303100</td>\n",
       "    </tr>\n",
       "    <tr>\n",
       "      <th>75%</th>\n",
       "      <td>358.256450</td>\n",
       "      <td>508.690500</td>\n",
       "      <td>499.814600</td>\n",
       "      <td>507.678175</td>\n",
       "      <td>431.922700</td>\n",
       "    </tr>\n",
       "    <tr>\n",
       "      <th>max</th>\n",
       "      <td>361.055500</td>\n",
       "      <td>535.100200</td>\n",
       "      <td>526.424700</td>\n",
       "      <td>509.270700</td>\n",
       "      <td>458.570900</td>\n",
       "    </tr>\n",
       "    <tr>\n",
       "      <th rowspan=\"8\" valign=\"top\">Science</th>\n",
       "      <th>count</th>\n",
       "      <td>2.000000</td>\n",
       "      <td>17.000000</td>\n",
       "      <td>37.000000</td>\n",
       "      <td>2.000000</td>\n",
       "      <td>7.000000</td>\n",
       "    </tr>\n",
       "    <tr>\n",
       "      <th>mean</th>\n",
       "      <td>381.074250</td>\n",
       "      <td>467.945847</td>\n",
       "      <td>478.299381</td>\n",
       "      <td>511.648700</td>\n",
       "      <td>421.747186</td>\n",
       "    </tr>\n",
       "    <tr>\n",
       "      <th>std</th>\n",
       "      <td>7.536556</td>\n",
       "      <td>56.671371</td>\n",
       "      <td>34.450616</td>\n",
       "      <td>2.340241</td>\n",
       "      <td>18.470319</td>\n",
       "    </tr>\n",
       "    <tr>\n",
       "      <th>min</th>\n",
       "      <td>375.745100</td>\n",
       "      <td>386.485400</td>\n",
       "      <td>383.682400</td>\n",
       "      <td>509.993900</td>\n",
       "      <td>396.683600</td>\n",
       "    </tr>\n",
       "    <tr>\n",
       "      <th>25%</th>\n",
       "      <td>378.409675</td>\n",
       "      <td>417.611200</td>\n",
       "      <td>460.774900</td>\n",
       "      <td>510.821300</td>\n",
       "      <td>408.205450</td>\n",
       "    </tr>\n",
       "    <tr>\n",
       "      <th>50%</th>\n",
       "      <td>381.074250</td>\n",
       "      <td>456.483600</td>\n",
       "      <td>490.225000</td>\n",
       "      <td>511.648700</td>\n",
       "      <td>424.590500</td>\n",
       "    </tr>\n",
       "    <tr>\n",
       "      <th>75%</th>\n",
       "      <td>383.738825</td>\n",
       "      <td>523.277400</td>\n",
       "      <td>501.936900</td>\n",
       "      <td>512.476100</td>\n",
       "      <td>433.794600</td>\n",
       "    </tr>\n",
       "    <tr>\n",
       "      <th>max</th>\n",
       "      <td>386.403400</td>\n",
       "      <td>555.574700</td>\n",
       "      <td>534.193700</td>\n",
       "      <td>513.303500</td>\n",
       "      <td>446.956100</td>\n",
       "    </tr>\n",
       "  </tbody>\n",
       "</table>\n",
       "</div>"
      ],
      "text/plain": [
       "Continent_Code                        AF          AS          EU          OC  \\\n",
       "internet_users_per_100 count    2.000000   17.000000   37.000000    2.000000   \n",
       "                       mean    43.359918   68.455613   77.274888   86.391704   \n",
       "                       std      7.297226   21.086060   12.425773    2.589686   \n",
       "                       min     38.200000   21.976068   53.744979   84.560519   \n",
       "                       25%     40.779959   50.300000   68.632900   85.476112   \n",
       "                       50%     43.359918   74.000000   76.184000   86.391704   \n",
       "                       75%     45.939877   84.948353   87.479056   87.307296   \n",
       "                       max     48.519836   92.884826   98.200000   88.222889   \n",
       "Math                   count    2.000000   17.000000   37.000000    2.000000   \n",
       "                       mean   363.212100  466.216647  477.981449  494.559750   \n",
       "                       std      5.099513   64.356490   35.150403    0.938401   \n",
       "                       min    359.606200  380.259000  371.311400  493.896200   \n",
       "                       25%    361.409150  403.833200  464.040100  494.227975   \n",
       "                       50%    363.212100  459.816000  489.728700  494.559750   \n",
       "                       75%    365.015050  531.296100  503.722000  494.891525   \n",
       "                       max    366.818000  564.189700  521.250600  495.223300   \n",
       "Reading                count    2.000000   17.000000   37.000000    2.000000   \n",
       "                       mean   355.457400  454.059682  476.164608  506.085650   \n",
       "                       std      7.916909   57.048962   37.720545    4.504341   \n",
       "                       min    349.859300  346.549000  351.741500  502.900600   \n",
       "                       25%    352.658350  408.102200  452.514300  504.493125   \n",
       "                       50%    355.457400  433.542300  487.250100  506.085650   \n",
       "                       75%    358.256450  508.690500  499.814600  507.678175   \n",
       "                       max    361.055500  535.100200  526.424700  509.270700   \n",
       "Science                count    2.000000   17.000000   37.000000    2.000000   \n",
       "                       mean   381.074250  467.945847  478.299381  511.648700   \n",
       "                       std      7.536556   56.671371   34.450616    2.340241   \n",
       "                       min    375.745100  386.485400  383.682400  509.993900   \n",
       "                       25%    378.409675  417.611200  460.774900  510.821300   \n",
       "                       50%    381.074250  456.483600  490.225000  511.648700   \n",
       "                       75%    383.738825  523.277400  501.936900  512.476100   \n",
       "                       max    386.403400  555.574700  534.193700  513.303500   \n",
       "\n",
       "Continent_Code                        SA  \n",
       "internet_users_per_100 count    7.000000  \n",
       "                       mean    60.180494  \n",
       "                       std      9.772455  \n",
       "                       min     40.900000  \n",
       "                       25%     57.116462  \n",
       "                       50%     64.289000  \n",
       "                       75%     66.321532  \n",
       "                       max     69.198471  \n",
       "Math                   count    7.000000  \n",
       "                       mean   402.887700  \n",
       "                       std     18.128894  \n",
       "                       min    377.069500  \n",
       "                       25%    388.102200  \n",
       "                       50%    409.033300  \n",
       "                       75%    417.617650  \n",
       "                       max    422.671400  \n",
       "Reading                count    7.000000  \n",
       "                       mean   425.359229  \n",
       "                       std     19.709688  \n",
       "                       min    397.541400  \n",
       "                       25%    416.126900  \n",
       "                       50%    425.303100  \n",
       "                       75%    431.922700  \n",
       "                       max    458.570900  \n",
       "Science                count    7.000000  \n",
       "                       mean   421.747186  \n",
       "                       std     18.470319  \n",
       "                       min    396.683600  \n",
       "                       25%    408.205450  \n",
       "                       50%    424.590500  \n",
       "                       75%    433.794600  \n",
       "                       max    446.956100  "
      ]
     },
     "execution_count": 21,
     "metadata": {},
     "output_type": "execute_result"
    }
   ],
   "source": [
    "df_pisa.groupby(\"Continent_Code\").describe().T"
   ]
  },
  {
   "cell_type": "code",
   "execution_count": 23,
   "id": "976c991f",
   "metadata": {},
   "outputs": [
    {
     "data": {
      "text/plain": [
       "0"
      ]
     },
     "execution_count": 23,
     "metadata": {},
     "output_type": "execute_result"
    }
   ],
   "source": [
    "df_pisa[df_pisa.Continent_Code==\"EU\"][\"Math\"].isnull().sum()"
   ]
  },
  {
   "cell_type": "code",
   "execution_count": 24,
   "id": "28be4bb9",
   "metadata": {},
   "outputs": [
    {
     "data": {
      "text/plain": [
       "0"
      ]
     },
     "execution_count": 24,
     "metadata": {},
     "output_type": "execute_result"
    }
   ],
   "source": [
    "df_pisa[df_pisa.Continent_Code==\"AS\"][\"Math\"].isnull().sum()"
   ]
  },
  {
   "cell_type": "code",
   "execution_count": 25,
   "id": "e9534ea7",
   "metadata": {},
   "outputs": [
    {
     "data": {
      "text/plain": [
       "37"
      ]
     },
     "execution_count": 25,
     "metadata": {},
     "output_type": "execute_result"
    }
   ],
   "source": [
    "n1 = len(df_pisa[df_pisa.Continent_Code == \"EU\"])\n",
    "n1"
   ]
  },
  {
   "cell_type": "code",
   "execution_count": 26,
   "id": "bc7bef7d",
   "metadata": {},
   "outputs": [
    {
     "data": {
      "text/plain": [
       "17"
      ]
     },
     "execution_count": 26,
     "metadata": {},
     "output_type": "execute_result"
    }
   ],
   "source": [
    "n2 = len(df_pisa[df_pisa.Continent_Code == \"AS\"])\n",
    "n2"
   ]
  },
  {
   "cell_type": "code",
   "execution_count": 28,
   "id": "b3c6b943",
   "metadata": {},
   "outputs": [
    {
     "data": {
      "text/plain": [
       "Ttest_indResult(statistic=0.870055317967983, pvalue=0.38826888111307345)"
      ]
     },
     "execution_count": 28,
     "metadata": {},
     "output_type": "execute_result"
    }
   ],
   "source": [
    "ind_pisa= stats.ttest_ind(df_pisa[df_pisa.Continent_Code==\"EU\"][\"Math\"],df_pisa[df_pisa.Continent_Code==\"AS\"][\"Math\"])\n",
    "ind_pisa"
   ]
  },
  {
   "cell_type": "code",
   "execution_count": 31,
   "id": "8e1b5a74",
   "metadata": {},
   "outputs": [
    {
     "data": {
      "text/plain": [
       "0.870055317967983"
      ]
     },
     "execution_count": 31,
     "metadata": {},
     "output_type": "execute_result"
    }
   ],
   "source": [
    "t_pisa=ind_pisa.statistic\n",
    "t_pisa"
   ]
  },
  {
   "cell_type": "code",
   "execution_count": 34,
   "id": "88c08f28",
   "metadata": {},
   "outputs": [
    {
     "data": {
      "text/plain": [
       "52"
      ]
     },
     "execution_count": 34,
     "metadata": {},
     "output_type": "execute_result"
    }
   ],
   "source": [
    "df = n1 + n2 - 2\n",
    "df"
   ]
  },
  {
   "cell_type": "code",
   "execution_count": 35,
   "id": "f73dbbf5",
   "metadata": {},
   "outputs": [
    {
     "data": {
      "text/plain": [
       "0.38826888111307345"
      ]
     },
     "execution_count": 35,
     "metadata": {},
     "output_type": "execute_result"
    }
   ],
   "source": [
    "p_value=2*(1-stats.t.cdf(t_pisa,df))\n",
    "p_value"
   ]
  },
  {
   "cell_type": "code",
   "execution_count": 36,
   "id": "29c39316",
   "metadata": {},
   "outputs": [
    {
     "name": "stdout",
     "output_type": "stream",
     "text": [
      "fail to reject the null\n"
     ]
    }
   ],
   "source": [
    "alpha=0.05  \n",
    "if p_value<alpha :\n",
    "  print(\"reject the null\")\n",
    "else:\n",
    "  print(\"fail to reject the null\")"
   ]
  },
  {
   "cell_type": "code",
   "execution_count": null,
   "id": "c61dd4f8",
   "metadata": {},
   "outputs": [],
   "source": []
  },
  {
   "cell_type": "code",
   "execution_count": null,
   "id": "2c20db2d",
   "metadata": {},
   "outputs": [],
   "source": []
  }
 ],
 "metadata": {
  "kernelspec": {
   "display_name": "Python 3 (ipykernel)",
   "language": "python",
   "name": "python3"
  },
  "language_info": {
   "codemirror_mode": {
    "name": "ipython",
    "version": 3
   },
   "file_extension": ".py",
   "mimetype": "text/x-python",
   "name": "python",
   "nbconvert_exporter": "python",
   "pygments_lexer": "ipython3",
   "version": "3.9.12"
  },
  "nbTranslate": {
   "displayLangs": [
    "*"
   ],
   "hotkey": "alt-t",
   "langInMainMenu": true,
   "sourceLang": "en",
   "targetLang": "fr",
   "useGoogleTranslate": true
  },
  "toc": {
   "base_numbering": 1,
   "nav_menu": {},
   "number_sections": true,
   "sideBar": true,
   "skip_h1_title": false,
   "title_cell": "Table of Contents",
   "title_sidebar": "Contents",
   "toc_cell": false,
   "toc_position": {},
   "toc_section_display": true,
   "toc_window_display": false
  }
 },
 "nbformat": 4,
 "nbformat_minor": 5
}
