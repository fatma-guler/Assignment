{
 "cells": [
  {
   "cell_type": "code",
   "execution_count": 6,
   "id": "07592bef",
   "metadata": {},
   "outputs": [],
   "source": [
    "import numpy as np\n",
    "from scipy import stats\n",
    "import matplotlib.pyplot as plt\n",
    "import seaborn as sns"
   ]
  },
  {
   "cell_type": "code",
   "execution_count": null,
   "id": "8b9acd8f",
   "metadata": {
    "code_folding": []
   },
   "outputs": [],
   "source": [
    "####Exercise 1"
   ]
  },
  {
   "cell_type": "code",
   "execution_count": 11,
   "id": "604937da",
   "metadata": {},
   "outputs": [],
   "source": [
    "std1 = 3\n",
    "n1 = 36\n",
    "xbar1 = 68\n",
    "alpha1 = 0.90"
   ]
  },
  {
   "cell_type": "code",
   "execution_count": 12,
   "id": "66296b9e",
   "metadata": {},
   "outputs": [
    {
     "data": {
      "text/plain": [
       "0.5"
      ]
     },
     "execution_count": 12,
     "metadata": {},
     "output_type": "execute_result"
    }
   ],
   "source": [
    "sem1=std1 / np.sqrt(n1)\n",
    "sem1"
   ]
  },
  {
   "cell_type": "code",
   "execution_count": 13,
   "id": "f24b83fd",
   "metadata": {},
   "outputs": [
    {
     "data": {
      "text/plain": [
       "(67.17757318652427, 68.82242681347573)"
      ]
     },
     "execution_count": 13,
     "metadata": {},
     "output_type": "execute_result"
    }
   ],
   "source": [
    "stats.norm.interval(0.90 , loc=xbar1, scale=sem1)"
   ]
  },
  {
   "cell_type": "code",
   "execution_count": null,
   "id": "59aaf506",
   "metadata": {},
   "outputs": [],
   "source": [
    "##Exersice 2"
   ]
  },
  {
   "cell_type": "code",
   "execution_count": 21,
   "id": "ddcb8bd0",
   "metadata": {},
   "outputs": [],
   "source": [
    "std2 = 0.73\n",
    "n2 = 130\n",
    "xbar2 = 98.25\n",
    "alpha2 = 0.99"
   ]
  },
  {
   "cell_type": "code",
   "execution_count": 22,
   "id": "0ee72e56",
   "metadata": {},
   "outputs": [
    {
     "data": {
      "text/plain": [
       "0.06402523540941313"
      ]
     },
     "execution_count": 22,
     "metadata": {},
     "output_type": "execute_result"
    }
   ],
   "source": [
    "sem2 = std2 / np.sqrt(n2)\n",
    "sem2"
   ]
  },
  {
   "cell_type": "code",
   "execution_count": 23,
   "id": "748e67a0",
   "metadata": {},
   "outputs": [
    {
     "data": {
      "text/plain": [
       "(98.08508192246582, 98.41491807753418)"
      ]
     },
     "execution_count": 23,
     "metadata": {},
     "output_type": "execute_result"
    }
   ],
   "source": [
    "stats.norm.interval(0.99 , loc=xbar2, scale=sem2)"
   ]
  },
  {
   "cell_type": "code",
   "execution_count": null,
   "id": "aa36d116",
   "metadata": {},
   "outputs": [],
   "source": [
    "##Exercise 3"
   ]
  },
  {
   "cell_type": "code",
   "execution_count": 25,
   "id": "7b6f63f9",
   "metadata": {},
   "outputs": [],
   "source": [
    "std3 = 3.1\n",
    "n3 = 500\n",
    "xbar3 = 5.4\n",
    "alpha3 = 0.95"
   ]
  },
  {
   "cell_type": "code",
   "execution_count": 26,
   "id": "593fd4b1",
   "metadata": {},
   "outputs": [
    {
     "data": {
      "text/plain": [
       "0.13863621460498696"
      ]
     },
     "execution_count": 26,
     "metadata": {},
     "output_type": "execute_result"
    }
   ],
   "source": [
    "sem3 = std3 / np.sqrt(n3)\n",
    "sem3"
   ]
  },
  {
   "cell_type": "code",
   "execution_count": 27,
   "id": "dff260be",
   "metadata": {},
   "outputs": [
    {
     "data": {
      "text/plain": [
       "(5.12827801242126, 5.67172198757874)"
      ]
     },
     "execution_count": 27,
     "metadata": {},
     "output_type": "execute_result"
    }
   ],
   "source": [
    "stats.norm.interval(0.95 , loc=xbar3, scale=sem3)"
   ]
  },
  {
   "cell_type": "code",
   "execution_count": null,
   "id": "d5a69867",
   "metadata": {},
   "outputs": [],
   "source": []
  }
 ],
 "metadata": {
  "kernelspec": {
   "display_name": "Python 3 (ipykernel)",
   "language": "python",
   "name": "python3"
  },
  "language_info": {
   "codemirror_mode": {
    "name": "ipython",
    "version": 3
   },
   "file_extension": ".py",
   "mimetype": "text/x-python",
   "name": "python",
   "nbconvert_exporter": "python",
   "pygments_lexer": "ipython3",
   "version": "3.9.12"
  },
  "nbTranslate": {
   "displayLangs": [
    "*"
   ],
   "hotkey": "alt-t",
   "langInMainMenu": true,
   "sourceLang": "en",
   "targetLang": "fr",
   "useGoogleTranslate": true
  },
  "toc": {
   "base_numbering": 1,
   "nav_menu": {},
   "number_sections": true,
   "sideBar": true,
   "skip_h1_title": false,
   "title_cell": "Table of Contents",
   "title_sidebar": "Contents",
   "toc_cell": false,
   "toc_position": {},
   "toc_section_display": true,
   "toc_window_display": false
  }
 },
 "nbformat": 4,
 "nbformat_minor": 5
}
